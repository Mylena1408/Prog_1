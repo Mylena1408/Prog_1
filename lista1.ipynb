{
 "cells": [
  {
   "cell_type": "markdown",
   "id": "fce5c501",
   "metadata": {},
   "source": [
    "\n",
    "lista 1- entregar ate dia 23/09/22"
   ]
  },
  {
   "cell_type": "markdown",
   "id": "d1e13209",
   "metadata": {},
   "source": [
    "1)Faça um Programa que mostre a mensagem \"Alo mundo\" na tela."
   ]
  },
  {
   "cell_type": "code",
   "execution_count": 1,
   "id": "2a087b4f",
   "metadata": {},
   "outputs": [
    {
     "name": "stdout",
     "output_type": "stream",
     "text": [
      "Alo mundo\n"
     ]
    }
   ],
   "source": [
    "a=\"Alo mundo\"\n",
    "print(a)"
   ]
  },
  {
   "cell_type": "markdown",
   "id": "7181af15",
   "metadata": {},
   "source": [
    "2) Faça um Programa que peça um número e então mostre a mensagem O número informado foi [número]."
   ]
  },
  {
   "cell_type": "code",
   "execution_count": 2,
   "id": "a0d736e0",
   "metadata": {},
   "outputs": [
    {
     "name": "stdout",
     "output_type": "stream",
     "text": [
      "Digite um numero34572\n",
      "O numero informado foi: 34572\n"
     ]
    }
   ],
   "source": [
    "a=input(\"Digite um numero\")\n",
    "\n",
    "b=print(\"O numero informado foi:\", a)"
   ]
  },
  {
   "cell_type": "markdown",
   "id": "e63fb9a9",
   "metadata": {},
   "source": [
    "3) Faça um Programa que peça dois números e imprima a soma."
   ]
  },
  {
   "cell_type": "code",
   "execution_count": 4,
   "id": "27eea147",
   "metadata": {},
   "outputs": [
    {
     "name": "stdout",
     "output_type": "stream",
     "text": [
      "Digite um numero:4\n",
      "Digite um numero:3\n",
      "7\n"
     ]
    }
   ],
   "source": [
    "a=int(input(\"Digite um numero:\"))\n",
    "b=int(input(\"Digite um numero:\"))\n",
    "soma= a+b\n",
    "print(soma)\n"
   ]
  },
  {
   "cell_type": "markdown",
   "id": "5d8fc9c8",
   "metadata": {},
   "source": [
    "4) Faça um Programa que peça as 4 notas bimestrais e mostre a média."
   ]
  },
  {
   "cell_type": "code",
   "execution_count": 5,
   "id": "262c77d1",
   "metadata": {},
   "outputs": [
    {
     "name": "stdout",
     "output_type": "stream",
     "text": [
      "A nota é:6\n",
      "A nota é:8\n",
      "A nota é:2\n",
      "A nota é:9\n",
      "6.25\n"
     ]
    }
   ],
   "source": [
    "a=int(input(\"A nota é:\"))\n",
    "b=int(input(\"A nota é:\"))\n",
    "c=int(input(\"A nota é:\"))\n",
    "d=int(input(\"A nota é:\"))\n",
    "soma= a+b+c+d\n",
    "media= soma/4\n",
    "print(media)"
   ]
  },
  {
   "cell_type": "code",
   "execution_count": 9,
   "id": "b11d0b4e",
   "metadata": {},
   "outputs": [
    {
     "name": "stdout",
     "output_type": "stream",
     "text": [
      "o valor em metros:23\n",
      "O valor em metros: 23.0 .Convertido em centimetros vale 2300.0 centimetros\n"
     ]
    }
   ],
   "source": [
    "a= float(input(\"o valor em metros:\"))\n",
    "b=a*100\n",
    "print(\"O valor em metros: {} .Convertido em centimetros vale {} centimetros\".format(a,b))"
   ]
  },
  {
   "cell_type": "markdown",
   "id": "5ab47c7c",
   "metadata": {},
   "source": [
    "6) Faça um Programa que peça o raio de um círculo, calcule e mostre sua área."
   ]
  },
  {
   "cell_type": "code",
   "execution_count": 11,
   "id": "7d6d59bc",
   "metadata": {},
   "outputs": [
    {
     "name": "stdout",
     "output_type": "stream",
     "text": [
      "Qual o valor do raio?47\n",
      "O valor do raio é 47.0, portanto,sua área vale 6939.5735 m²\n"
     ]
    }
   ],
   "source": [
    "a=float(input(\"Qual o valor do raio?\"))\n",
    "b=3.1415*a**2\n",
    "c=print(\"O valor do raio é {}, portanto,sua área vale {} m²\".format(a,b))"
   ]
  },
  {
   "cell_type": "markdown",
   "id": "bfa5349b",
   "metadata": {},
   "source": [
    "7) Faça um Programa que calcule a área de um quadrado, em seguida mostre o dobro desta área para o usuário."
   ]
  },
  {
   "cell_type": "code",
   "execution_count": 14,
   "id": "78dd8ce3",
   "metadata": {},
   "outputs": [
    {
     "name": "stdout",
     "output_type": "stream",
     "text": [
      "Qual o valor do quadrado?34\n",
      "O valor da area  34.0 que tera o dobro do retorno é 1156.0\n"
     ]
    }
   ],
   "source": [
    "a=float(input(\"Qual o valor do quadrado?\"))\n",
    "b= a*a\n",
    "c=b*2\n",
    "print(\"O valor da area  {} que tera o dobro do retorno é {}\".format(a,b))"
   ]
  },
  {
   "cell_type": "markdown",
   "id": "33b0406c",
   "metadata": {},
   "source": [
    "8) Faça um Programa que pergunte quanto você ganha por hora e o número de horas trabalhadas no mês. Calcule e mostre o total do seu salário no referido mês."
   ]
  },
  {
   "cell_type": "code",
   "execution_count": 2,
   "id": "3e05129b",
   "metadata": {},
   "outputs": [
    {
     "name": "stdout",
     "output_type": "stream",
     "text": [
      "Quanto você recebe por hora?35\n",
      "Quantas horas por dia você trabalha? no mês300\n",
      "Seu salario no referido mês tem o valor de R$10500.0 \n"
     ]
    }
   ],
   "source": [
    "a=float(input(\"Quanto você recebe por hora?\"))\n",
    "b=float(input(\"Quantas horas por dia você trabalha? no mês\"))\n",
    "c=a*b\n",
    "d=\"Seu salario no referido mês tem o valor de R${} \".format(c)\n",
    "print(d)"
   ]
  },
  {
   "cell_type": "markdown",
   "id": "faf839f4",
   "metadata": {},
   "source": [
    "9) Faça um Programa que peça a temperatura em graus Fahrenheit, transforme e mostre a temperatura em graus Celsius. C = 5 * ((F-32) / 9)."
   ]
  },
  {
   "cell_type": "code",
   "execution_count": 6,
   "id": "971a736e",
   "metadata": {},
   "outputs": [
    {
     "name": "stdout",
     "output_type": "stream",
     "text": [
      "Qual a temperatura em F°?212\n",
      "A temperatura em F° 212.0 ,convertida em C° equivale a: 100.0\n"
     ]
    }
   ],
   "source": [
    "F=float(input(\"Qual a temperatura em F°?\"))\n",
    "C=float(5 * ((F-32) / 9))\n",
    "d=print(\"A temperatura em F° {} ,convertida em C° equivale a: {}\".format(F,C))"
   ]
  },
  {
   "cell_type": "markdown",
   "id": "f666459e",
   "metadata": {},
   "source": [
    "10) Faça um Programa que peça a temperatura em graus Celsius, transforme e mostre em graus Fahrenheit."
   ]
  },
  {
   "cell_type": "code",
   "execution_count": 15,
   "id": "4c00fbdb",
   "metadata": {},
   "outputs": [
    {
     "name": "stdout",
     "output_type": "stream",
     "text": [
      "Qual a temperatura em C°?100\n",
      "A temperatura em C°: 100.0 ,o valor convertido em F°:212.0\n"
     ]
    }
   ],
   "source": [
    "C=float(input(\"Qual a temperatura em C°?\"))\n",
    "F=float(((C/5)*9)+32)\n",
    "print(\"A temperatura em C°: {} ,o valor convertido em F°:{}\".format(C,F))"
   ]
  },
  {
   "cell_type": "markdown",
   "id": "c7238c93",
   "metadata": {},
   "source": [
    "11) Faça um Programa que peça 2 números inteiros e um número real. Calcule e mostre:\n",
    "\n",
    "· o produto do dobro do primeiro com metade do segundo.\n",
    "\n",
    "· a soma do triplo do primeiro com o terceiro.\n",
    "\n",
    "· o terceiro elevado ao cubo."
   ]
  },
  {
   "cell_type": "code",
   "execution_count": 44,
   "id": "dceac14f",
   "metadata": {},
   "outputs": [
    {
     "name": "stdout",
     "output_type": "stream",
     "text": [
      "Digite um numero inteiro:2\n",
      "Digite outro numero inteiro:5\n",
      "Digite um numero real:2.5\n",
      "O primeiro vale2 , o segundo numero vale 5 \n",
      " O produto do dobro do primeiro\n",
      " com a metade do segundo vale:1.6\n",
      " a soma do triplo do primeiro com o terceiro: 13.5.\n",
      " O terceiro elevado ao cubo tem valor 15.625 \n"
     ]
    }
   ],
   "source": [
    "a=int(input(\"Digite um numero inteiro:\"))\n",
    "b=int(input(\"Digite outro numero inteiro:\"))\n",
    "c=float(input(\"Digite um numero real:\"))\n",
    "d=(a*2)/(b/2)\n",
    "e=3*a+3*c\n",
    "f=c*c*c\n",
    "print(\"O primeiro vale{} , o segundo numero vale {} \\n O produto do dobro do primeiro\\n com a metade do segundo vale:{}\\n a soma do triplo do primeiro com o terceiro: {}.\\n O terceiro elevado ao cubo tem valor {} \".format(a,b,d,e,f))"
   ]
  },
  {
   "cell_type": "markdown",
   "id": "33068444",
   "metadata": {},
   "source": [
    "12) Tendo como dados de entrada a altura de uma pessoa, construa um algoritmo que calcule seu peso ideal, usando a seguinte fórmula: (72.7*altura) - 58"
   ]
  },
  {
   "cell_type": "code",
   "execution_count": 26,
   "id": "70188923",
   "metadata": {},
   "outputs": [
    {
     "name": "stdout",
     "output_type": "stream",
     "text": [
      "Qual a altura da pessoa?1.59\n",
      "Considerando a altura da pessoa: 1.59\n",
      " O seu peso ideal estimado será 57.593 Kg\n"
     ]
    }
   ],
   "source": [
    "a=float(input(\"Qual a altura da pessoa?\"))\n",
    "b=(72.7*a)-58\n",
    "print(\"Considerando a altura da pessoa: {}\\n O seu peso ideal estimado será {} Kg\".format(a,b))"
   ]
  },
  {
   "cell_type": "markdown",
   "id": "f0b218b4",
   "metadata": {},
   "source": [
    "13) Tendo como dado de entrada a altura (h) de uma pessoa, construa um algoritmo que calcule seu peso ideal, utilizando as seguintes fórmulas:\n",
    "\n",
    "· Para homens: (72.7*h) - 58\n",
    "\n",
    "· Para mulheres: (62.1*h) - 44.7"
   ]
  },
  {
   "cell_type": "code",
   "execution_count": 54,
   "id": "dd4f596a",
   "metadata": {},
   "outputs": [
    {
     "name": "stdout",
     "output_type": "stream",
     "text": [
      "Qual a altura da pessoa?1.58\n",
      "A pessoa é homem ou mulher?homem\n",
      "homem\n",
      "O peso ideal desse homem é : 56.866000000000014\n"
     ]
    }
   ],
   "source": [
    "a=float(input(\"Qual a altura da pessoa?\"))\n",
    "b=str(input(\"A pessoa é homem ou mulher?\"))\n",
    "print(b)\n",
    "hm=\"homem\"\n",
    "mu=\"mulher\"\n",
    "if b==hm:\n",
    "    hm=(72.7*a)-58\n",
    "    print(\"O peso ideal desse homem é : {}\".format(hm))\n",
    "else:\n",
    "    mu=(62.1*a)-44.7\n",
    "    print(\"O peso ideal dessa mulher é: {}\".format(mu))\n",
    "    \n",
    "\n"
   ]
  },
  {
   "cell_type": "markdown",
   "id": "d851f30e",
   "metadata": {},
   "source": [
    "14) João Papo-de-Pescador, homem de bem, comprou um microcomputador para controlar o rendimento diário de seu trabalho. Toda vez que ele traz um peso de peixes maior que o estabelecido pelo regulamento de pesca do estado de São Paulo (50 quilos) deve pagar uma multa de R$ 4,00 por quilo excedente. João precisa que você faça um programa que leia a variável peso (peso de peixes) e calcule o excesso. Gravar na variável excesso a quantidade de quilos além do limite e na variável multa o valor da multa que João deverá pagar. Imprima os dados do programa com as mensagens adequadas."
   ]
  },
  {
   "cell_type": "code",
   "execution_count": 45,
   "id": "fd2ff94f",
   "metadata": {},
   "outputs": [
    {
     "name": "stdout",
     "output_type": "stream",
     "text": [
      "Quantos quilos de peixe foi arrecadado?51\n",
      "A quantidade de quilos excedente ao permitido:51.0 Kg\n",
      " O valor da provavel multa a ser paga sera no valor de R$:4.0\n"
     ]
    }
   ],
   "source": [
    "p=float(input(\"Quantos quilos de peixe foi arrecadado?\"))\n",
    "e=50-p\n",
    "if p>50:\n",
    "    e=(50-p)*4.00*(-1)\n",
    "    print(\"A quantidade de quilos excedente ao permitido:{} Kg\\n O valor da provavel multa a ser paga sera no valor de R$:{}\".format(p,e))\n",
    "else:\n",
    "    print(\"Voce não precisa pagar multa por quilo excedente,pois não há.\")"
   ]
  },
  {
   "cell_type": "markdown",
   "id": "f541890e",
   "metadata": {},
   "source": [
    "15) Faça um Programa que pergunte quanto você ganha por hora e o número de horas trabalhadas no mês. Calcule e mostre o total do seu salário no referido mês, sabendo-se que são descontados 11% para o Imposto de Renda, 8% para o INSS e 5% para o sindicato, faça um programa que nos dê:\n",
    "\n",
    "· salário bruto.\n",
    "\n",
    "· quanto pagou ao INSS.\n",
    "\n",
    "· quanto pagou ao sindicato.\n",
    "\n",
    "· o salário líquido.\n",
    "\n",
    "· calcule os descontos e o salário líquido, conforme a tabela abaixo:\n",
    "\n",
    "+ Salário Bruto : R$ - IR (11%) : R$ - INSS (8%) : R$ - Sindicato ( 5%) : R$ = Salário Liquido : R$"
   ]
  },
  {
   "cell_type": "markdown",
   "id": "3f253300",
   "metadata": {},
   "source": [
    "Obs.: Salário Bruto - Descontos = Salário Líquido."
   ]
  },
  {
   "cell_type": "code",
   "execution_count": 55,
   "id": "8bd99c2b",
   "metadata": {},
   "outputs": [
    {
     "name": "stdout",
     "output_type": "stream",
     "text": [
      "Quanto se ganha por hora trabalhada?28.90\n",
      "Qual a quantidade de horas trabalhadas no mês?240\n",
      "O valor do sal bruto :R$ 6936.0\n",
      " O valor pago ao INSS é R$ 554.88\n",
      " O valor pago ao Sindicato: R$ 346.8\n",
      " O salario liquido chega no valor: R$ 5271.36\n"
     ]
    }
   ],
   "source": [
    "a=float(input(\"Quanto se ganha por hora trabalhada?\"))\n",
    "b=int(input(\"Qual a quantidade de horas trabalhadas no mês?\"))\n",
    "sal_bruto=a*b\n",
    "INSS=(sal_bruto*8/100)\n",
    "Sind=(sal_bruto*5/100)\n",
    "Leao=(sal_bruto*11/100)\n",
    "sal_liquido=sal_bruto-(INSS+Sind+Leao)\n",
    "print(\"O valor do sal bruto :R$ {}\\n O valor pago ao INSS é R$ {}\\n O valor pago ao Sindicato: R$ {}\\n O salario liquido chega no valor: R$ {}\".format(sal_bruto,INSS,Sind,sal_liquido))"
   ]
  },
  {
   "cell_type": "markdown",
   "id": "7d908de8",
   "metadata": {},
   "source": [
    "16) Faça um programa para uma loja de tintas. O programa deverá pedir o tamanho em metros quadrados da área a ser pintada. Considere que a cobertura da tinta é de 1 litro para cada 3 metros quadrados e que a tinta é vendida em latas de 18 litros, que custam R$ 80,00. Informe ao usuário a quantidades de latas de tinta a serem compradas e o preço total."
   ]
  },
  {
   "cell_type": "code",
   "execution_count": 3,
   "id": "75a95be3",
   "metadata": {},
   "outputs": [
    {
     "name": "stdout",
     "output_type": "stream",
     "text": [
      "Qual a o valor da area em metros quadrados a ser pintado?23\n",
      "(0, 76659.0)\n"
     ]
    }
   ],
   "source": [
    "a=float(input(\"Qual a o valor da area em metros quadrados a ser pintado?\"))\n",
    "#b=float(input(\"Quantas lastas seram utilizadas? \"))\n",
    "#colocar a relaçao de valor tinta por preço= 0.225 L/real\n",
    "#na proporção 1litro para 3m²; 18litros cobrem cerca de 54m²\n",
    "c=0,3333*a \n",
    "print(c)\n",
    "\n",
    "#e=\"\\n A cobertura de tinta é de 1 litro para 3 m²,a lata é vendida em galoes de 18L e custa 80,00\\n A área a ser pintada é de {} m²,portanto será necessário esta quantidade de latas de tinta {}, que custará R$ {} \".format(b,)\n"
   ]
  },
  {
   "cell_type": "markdown",
   "id": "4648c7bf",
   "metadata": {},
   "source": [
    "17) Faça um Programa para uma loja de tintas. O programa deverá pedir o tamanho em metros quadrados da área a ser pintada. Considere que a cobertura da tinta é de 1 litro para cada 6 metros quadrados e que a tinta é vendida em latas de 18 litros, que custam R$ 80,00 ou em galões de 3,6 litros, que custam R$ 25,00.\n",
    "\n",
    "Informe ao usuário as quantidades de tinta a serem compradas e os respectivos preços em 3 situações:\n",
    "\n",
    "· comprar apenas latas de 18 litros;\n",
    "\n",
    "· comprar apenas galões de 3,6 litros;\n",
    "\n",
    "· misturar latas e galões, de forma que o desperdício de tinta seja menor. Acrescente 10% de folga e sempre arredonde os valores para cima, isto é, considere latas cheias. "
   ]
  },
  {
   "cell_type": "code",
   "execution_count": 1,
   "id": "6dcc3bd6",
   "metadata": {},
   "outputs": [
    {
     "name": "stdout",
     "output_type": "stream",
     "text": [
      "Qual a o tamanho da area a ser pintada em m²?4\n",
      "4.0\n",
      "Você vai usar lata de tinta de 18 L para cobrir a area indicada?S\n",
      "S\n",
      "Você vai usar galões de tinta de 3.6 L para pintar a area indicada?N\n",
      "N\n"
     ]
    }
   ],
   "source": [
    "a=float(input(\"Qual a o tamanho da area a ser pintada em m²?\"))\n",
    "print(a)\n",
    "b=print(input(\"Você vai usar lata de tinta de 18 L para cobrir a area indicada?\"))\n",
    "#colocar a relação de galões por area a ser pintada\n",
    "c=print(input(\"Você vai usar galões de tinta de 3.6 L para pintar a area indicada?\"))\n",
    "# colocar a relação entre latas de 18 Litros e a area a ser pintada.\n",
    "# para relacionar as variaveis vou inserir a estrutura if-elif-else.\n",
    "\n",
    "if a>6:\n",
    "    galao=18/a*25\n",
    "    print(\"O valor estimado para cobrir {} m² sera { } de galões e custará R$ : {}\".format(a,galao,custo))"
   ]
  },
  {
   "cell_type": "code",
   "execution_count": null,
   "id": "22ab594c",
   "metadata": {},
   "outputs": [],
   "source": []
  }
 ],
 "metadata": {
  "kernelspec": {
   "display_name": "Python 3 (ipykernel)",
   "language": "python",
   "name": "python3"
  },
  "language_info": {
   "codemirror_mode": {
    "name": "ipython",
    "version": 3
   },
   "file_extension": ".py",
   "mimetype": "text/x-python",
   "name": "python",
   "nbconvert_exporter": "python",
   "pygments_lexer": "ipython3",
   "version": "3.10.6"
  }
 },
 "nbformat": 4,
 "nbformat_minor": 5
}
